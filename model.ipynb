{
 "cells": [
  {
   "cell_type": "markdown",
   "id": "407d5080-f6d3-4797-8e32-4e25ced0c9b7",
   "metadata": {},
   "source": [
    "## Konut Binalarının Enerji Verimliliği"
   ]
  },
  {
   "cell_type": "markdown",
   "id": "67208409-d426-476e-9088-cd0c62ad2a07",
   "metadata": {},
   "source": [
    "<font color = 'blue'>\n",
    "Content:\n",
    "  \n",
    "1.[Load and Check Data](#1)\n",
    "    \n",
    "2.[Variable Description](#2)\n",
    "    \n",
    "3.[Variable Analysis](#3)\n",
    " \n",
    "4.[Basic Data Analysis](#4)\n",
    "\n",
    "5.[Outlier Detection](#5)\n",
    "   \n",
    "6.[Missing Value](#6)\n",
    "  \n",
    "7.[Data Visualization](#7)\n",
    "    \n",
    "8.[Feature Selection](#8)\n",
    "   \n",
    "9.[Modelling](#9)\n",
    "\n",
    "* [Linear Regression](#10)\n",
    "* [Random Forest](#11)\n",
    "* [Decision Tree Regressor](#12)"
   ]
  },
  {
   "cell_type": "code",
   "execution_count": 69,
   "id": "b3668bd9-18a1-433f-bac3-2ae6d8b69234",
   "metadata": {},
   "outputs": [],
   "source": [
    "# import library\n",
    "import pandas as pd\n",
    "import numpy as np\n",
    "import seaborn as sns\n",
    "import matplotlib.pyplot as plt\n",
    "from sklearn.model_selection import train_test_split, cross_val_score, StratifiedKFold, KFold, GridSearchCV\n",
    "from sklearn.metrics import mean_squared_error, r2_score"
   ]
  },
  {
   "cell_type": "markdown",
   "id": "4eb833ca-fc03-49eb-bf3b-e9da9eb10ad8",
   "metadata": {},
   "source": [
    "<a id=\"1\"></a><br>\n",
    "### 1.Load and Check Data"
   ]
  },
  {
   "cell_type": "code",
   "execution_count": 70,
   "id": "373c270e-d50a-4a73-8010-3ed70fa68dc7",
   "metadata": {},
   "outputs": [
    {
     "data": {
      "text/html": [
       "<div>\n",
       "<style scoped>\n",
       "    .dataframe tbody tr th:only-of-type {\n",
       "        vertical-align: middle;\n",
       "    }\n",
       "\n",
       "    .dataframe tbody tr th {\n",
       "        vertical-align: top;\n",
       "    }\n",
       "\n",
       "    .dataframe thead th {\n",
       "        text-align: right;\n",
       "    }\n",
       "</style>\n",
       "<table border=\"1\" class=\"dataframe\">\n",
       "  <thead>\n",
       "    <tr style=\"text-align: right;\">\n",
       "      <th></th>\n",
       "      <th>X1</th>\n",
       "      <th>X2</th>\n",
       "      <th>X3</th>\n",
       "      <th>X4</th>\n",
       "      <th>X5</th>\n",
       "      <th>X6</th>\n",
       "      <th>X7</th>\n",
       "      <th>X8</th>\n",
       "      <th>Y1</th>\n",
       "      <th>Y2</th>\n",
       "    </tr>\n",
       "  </thead>\n",
       "  <tbody>\n",
       "    <tr>\n",
       "      <th>0</th>\n",
       "      <td>0.98</td>\n",
       "      <td>514.5</td>\n",
       "      <td>294.0</td>\n",
       "      <td>110.25</td>\n",
       "      <td>7.0</td>\n",
       "      <td>2</td>\n",
       "      <td>0.0</td>\n",
       "      <td>0</td>\n",
       "      <td>15.55</td>\n",
       "      <td>21.33</td>\n",
       "    </tr>\n",
       "    <tr>\n",
       "      <th>1</th>\n",
       "      <td>0.98</td>\n",
       "      <td>514.5</td>\n",
       "      <td>294.0</td>\n",
       "      <td>110.25</td>\n",
       "      <td>7.0</td>\n",
       "      <td>3</td>\n",
       "      <td>0.0</td>\n",
       "      <td>0</td>\n",
       "      <td>15.55</td>\n",
       "      <td>21.33</td>\n",
       "    </tr>\n",
       "    <tr>\n",
       "      <th>2</th>\n",
       "      <td>0.98</td>\n",
       "      <td>514.5</td>\n",
       "      <td>294.0</td>\n",
       "      <td>110.25</td>\n",
       "      <td>7.0</td>\n",
       "      <td>4</td>\n",
       "      <td>0.0</td>\n",
       "      <td>0</td>\n",
       "      <td>15.55</td>\n",
       "      <td>21.33</td>\n",
       "    </tr>\n",
       "    <tr>\n",
       "      <th>3</th>\n",
       "      <td>0.98</td>\n",
       "      <td>514.5</td>\n",
       "      <td>294.0</td>\n",
       "      <td>110.25</td>\n",
       "      <td>7.0</td>\n",
       "      <td>5</td>\n",
       "      <td>0.0</td>\n",
       "      <td>0</td>\n",
       "      <td>15.55</td>\n",
       "      <td>21.33</td>\n",
       "    </tr>\n",
       "    <tr>\n",
       "      <th>4</th>\n",
       "      <td>0.90</td>\n",
       "      <td>563.5</td>\n",
       "      <td>318.5</td>\n",
       "      <td>122.50</td>\n",
       "      <td>7.0</td>\n",
       "      <td>2</td>\n",
       "      <td>0.0</td>\n",
       "      <td>0</td>\n",
       "      <td>20.84</td>\n",
       "      <td>28.28</td>\n",
       "    </tr>\n",
       "  </tbody>\n",
       "</table>\n",
       "</div>"
      ],
      "text/plain": [
       "     X1     X2     X3      X4   X5  X6   X7  X8     Y1     Y2\n",
       "0  0.98  514.5  294.0  110.25  7.0   2  0.0   0  15.55  21.33\n",
       "1  0.98  514.5  294.0  110.25  7.0   3  0.0   0  15.55  21.33\n",
       "2  0.98  514.5  294.0  110.25  7.0   4  0.0   0  15.55  21.33\n",
       "3  0.98  514.5  294.0  110.25  7.0   5  0.0   0  15.55  21.33\n",
       "4  0.90  563.5  318.5  122.50  7.0   2  0.0   0  20.84  28.28"
      ]
     },
     "execution_count": 70,
     "metadata": {},
     "output_type": "execute_result"
    }
   ],
   "source": [
    "# load data\n",
    "data = pd.read_csv(\"data.csv\")\n",
    "data.head()"
   ]
  },
  {
   "cell_type": "code",
   "execution_count": 71,
   "id": "f9715241-4ae8-4b88-8f0d-fcd6cb7b3e5a",
   "metadata": {},
   "outputs": [
    {
     "data": {
      "text/html": [
       "<div>\n",
       "<style scoped>\n",
       "    .dataframe tbody tr th:only-of-type {\n",
       "        vertical-align: middle;\n",
       "    }\n",
       "\n",
       "    .dataframe tbody tr th {\n",
       "        vertical-align: top;\n",
       "    }\n",
       "\n",
       "    .dataframe thead th {\n",
       "        text-align: right;\n",
       "    }\n",
       "</style>\n",
       "<table border=\"1\" class=\"dataframe\">\n",
       "  <thead>\n",
       "    <tr style=\"text-align: right;\">\n",
       "      <th></th>\n",
       "      <th>count</th>\n",
       "      <th>mean</th>\n",
       "      <th>std</th>\n",
       "      <th>min</th>\n",
       "      <th>25%</th>\n",
       "      <th>50%</th>\n",
       "      <th>75%</th>\n",
       "      <th>max</th>\n",
       "    </tr>\n",
       "  </thead>\n",
       "  <tbody>\n",
       "    <tr>\n",
       "      <th>X1</th>\n",
       "      <td>768.0</td>\n",
       "      <td>0.764167</td>\n",
       "      <td>0.105777</td>\n",
       "      <td>0.62</td>\n",
       "      <td>0.6825</td>\n",
       "      <td>0.75</td>\n",
       "      <td>0.8300</td>\n",
       "      <td>0.98</td>\n",
       "    </tr>\n",
       "    <tr>\n",
       "      <th>X2</th>\n",
       "      <td>768.0</td>\n",
       "      <td>671.708333</td>\n",
       "      <td>88.086116</td>\n",
       "      <td>514.50</td>\n",
       "      <td>606.3750</td>\n",
       "      <td>673.75</td>\n",
       "      <td>741.1250</td>\n",
       "      <td>808.50</td>\n",
       "    </tr>\n",
       "    <tr>\n",
       "      <th>X3</th>\n",
       "      <td>768.0</td>\n",
       "      <td>318.500000</td>\n",
       "      <td>43.626481</td>\n",
       "      <td>245.00</td>\n",
       "      <td>294.0000</td>\n",
       "      <td>318.50</td>\n",
       "      <td>343.0000</td>\n",
       "      <td>416.50</td>\n",
       "    </tr>\n",
       "    <tr>\n",
       "      <th>X4</th>\n",
       "      <td>768.0</td>\n",
       "      <td>176.604167</td>\n",
       "      <td>45.165950</td>\n",
       "      <td>110.25</td>\n",
       "      <td>140.8750</td>\n",
       "      <td>183.75</td>\n",
       "      <td>220.5000</td>\n",
       "      <td>220.50</td>\n",
       "    </tr>\n",
       "    <tr>\n",
       "      <th>X5</th>\n",
       "      <td>768.0</td>\n",
       "      <td>5.250000</td>\n",
       "      <td>1.751140</td>\n",
       "      <td>3.50</td>\n",
       "      <td>3.5000</td>\n",
       "      <td>5.25</td>\n",
       "      <td>7.0000</td>\n",
       "      <td>7.00</td>\n",
       "    </tr>\n",
       "    <tr>\n",
       "      <th>X6</th>\n",
       "      <td>768.0</td>\n",
       "      <td>3.500000</td>\n",
       "      <td>1.118763</td>\n",
       "      <td>2.00</td>\n",
       "      <td>2.7500</td>\n",
       "      <td>3.50</td>\n",
       "      <td>4.2500</td>\n",
       "      <td>5.00</td>\n",
       "    </tr>\n",
       "    <tr>\n",
       "      <th>X7</th>\n",
       "      <td>768.0</td>\n",
       "      <td>0.234375</td>\n",
       "      <td>0.133221</td>\n",
       "      <td>0.00</td>\n",
       "      <td>0.1000</td>\n",
       "      <td>0.25</td>\n",
       "      <td>0.4000</td>\n",
       "      <td>0.40</td>\n",
       "    </tr>\n",
       "    <tr>\n",
       "      <th>X8</th>\n",
       "      <td>768.0</td>\n",
       "      <td>2.812500</td>\n",
       "      <td>1.550960</td>\n",
       "      <td>0.00</td>\n",
       "      <td>1.7500</td>\n",
       "      <td>3.00</td>\n",
       "      <td>4.0000</td>\n",
       "      <td>5.00</td>\n",
       "    </tr>\n",
       "    <tr>\n",
       "      <th>Y1</th>\n",
       "      <td>768.0</td>\n",
       "      <td>22.307195</td>\n",
       "      <td>10.090204</td>\n",
       "      <td>6.01</td>\n",
       "      <td>12.9925</td>\n",
       "      <td>18.95</td>\n",
       "      <td>31.6675</td>\n",
       "      <td>43.10</td>\n",
       "    </tr>\n",
       "    <tr>\n",
       "      <th>Y2</th>\n",
       "      <td>768.0</td>\n",
       "      <td>24.587760</td>\n",
       "      <td>9.513306</td>\n",
       "      <td>10.90</td>\n",
       "      <td>15.6200</td>\n",
       "      <td>22.08</td>\n",
       "      <td>33.1325</td>\n",
       "      <td>48.03</td>\n",
       "    </tr>\n",
       "  </tbody>\n",
       "</table>\n",
       "</div>"
      ],
      "text/plain": [
       "    count        mean        std     min       25%     50%       75%     max\n",
       "X1  768.0    0.764167   0.105777    0.62    0.6825    0.75    0.8300    0.98\n",
       "X2  768.0  671.708333  88.086116  514.50  606.3750  673.75  741.1250  808.50\n",
       "X3  768.0  318.500000  43.626481  245.00  294.0000  318.50  343.0000  416.50\n",
       "X4  768.0  176.604167  45.165950  110.25  140.8750  183.75  220.5000  220.50\n",
       "X5  768.0    5.250000   1.751140    3.50    3.5000    5.25    7.0000    7.00\n",
       "X6  768.0    3.500000   1.118763    2.00    2.7500    3.50    4.2500    5.00\n",
       "X7  768.0    0.234375   0.133221    0.00    0.1000    0.25    0.4000    0.40\n",
       "X8  768.0    2.812500   1.550960    0.00    1.7500    3.00    4.0000    5.00\n",
       "Y1  768.0   22.307195  10.090204    6.01   12.9925   18.95   31.6675   43.10\n",
       "Y2  768.0   24.587760   9.513306   10.90   15.6200   22.08   33.1325   48.03"
      ]
     },
     "execution_count": 71,
     "metadata": {},
     "output_type": "execute_result"
    }
   ],
   "source": [
    "# veri seti hakkında istatiksel bilgiler\n",
    "data.describe().T"
   ]
  },
  {
   "cell_type": "markdown",
   "id": "498ab1ae-ef38-424d-994e-36d2e60bc409",
   "metadata": {},
   "source": [
    "<a id=\"2\"></a><br>\n",
    "### 2.Variable Description\n",
    "1.  X1 (Relative Compactness) -> Bağıl Kompaktlık\n",
    "2.  X2 (Surface Area - m²) -> Yüzey Alanı\n",
    "3.  X3 (Wall Area - m²) -> Duvar Alanı\n",
    "4.  X4 (Roof Area - m²) -> Çatı Alanı\n",
    "5.  X5 (Overall Height - m) -> Toplam Yükseklik\n",
    "6.  X6 (Orientation - 2:North, 3:East, 4:South, 5:West ) -> Binanın Yönü\n",
    "7.  X7 (Glazing Area - 0%, 10%, 25%, 40% (of floor area)) -> Cam Alanı\n",
    "8.  X8 (Glazing Area Distribution  (Variance) - 1:Uniform, 2:North, 3:East, 4:South, 5:West) -> Cam Alanının Dağılımı \n",
    "9.  Y1 (Heating Load - kWh/m²) -> Isıtma yükü\n",
    "10. Y2 (Cooling Load - kWh/m²) -> Soğutma yükü"
   ]
  },
  {
   "cell_type": "code",
   "execution_count": 72,
   "id": "048ceeb2-eaba-4584-b994-802cf8d0c4b6",
   "metadata": {},
   "outputs": [],
   "source": [
    "# data column isimlerini güncelleme\n",
    "data_column_name = {\"X1\":\"RelativeCompactness\", \n",
    "                    \"X2\":\"SurfaceArea\", \n",
    "                    \"X3\":\"WallArea\",\n",
    "                    \"X4\":\"RoofArea\",\n",
    "                    \"X5\":\"OverallHeight\",\n",
    "                    \"X6\":\"Orientation\",\n",
    "                    \"X7\":\"GlazingArea\",\n",
    "                    \"X8\":\"GlazingAreaDist\",\n",
    "                    \"Y1\":\"HeatingLoad\",\n",
    "                    \"Y2\":\"CoolingLoad\"}\n",
    "data.rename(columns = data_column_name, inplace=True)"
   ]
  },
  {
   "cell_type": "code",
   "execution_count": 73,
   "id": "e8656015-54d1-4a7b-a0ed-69a968649d65",
   "metadata": {},
   "outputs": [
    {
     "name": "stdout",
     "output_type": "stream",
     "text": [
      "<class 'pandas.core.frame.DataFrame'>\n",
      "RangeIndex: 768 entries, 0 to 767\n",
      "Data columns (total 10 columns):\n",
      " #   Column               Non-Null Count  Dtype  \n",
      "---  ------               --------------  -----  \n",
      " 0   RelativeCompactness  768 non-null    float64\n",
      " 1   SurfaceArea          768 non-null    float64\n",
      " 2   WallArea             768 non-null    float64\n",
      " 3   RoofArea             768 non-null    float64\n",
      " 4   OverallHeight        768 non-null    float64\n",
      " 5   Orientation          768 non-null    int64  \n",
      " 6   GlazingArea          768 non-null    float64\n",
      " 7   GlazingAreaDist      768 non-null    int64  \n",
      " 8   HeatingLoad          768 non-null    float64\n",
      " 9   CoolingLoad          768 non-null    float64\n",
      "dtypes: float64(8), int64(2)\n",
      "memory usage: 60.1 KB\n"
     ]
    }
   ],
   "source": [
    "data.info()"
   ]
  },
  {
   "cell_type": "markdown",
   "id": "3bcdcbda-5dc3-4549-98fd-6c38734cfa98",
   "metadata": {},
   "source": [
    "* float64(8) : RelativeCompactness, SurfaceArea, WallArea, RoofArea, OveralHeight, GlazingArea, HeatingLoad, CoolingLoad\n",
    "* int64(2) : GlazingAreaDist, Orientation"
   ]
  },
  {
   "cell_type": "code",
   "execution_count": 74,
   "id": "a81fb98c-31b1-43b6-8ff7-a83fc32b340f",
   "metadata": {
    "tags": []
   },
   "outputs": [
    {
     "name": "stdout",
     "output_type": "stream",
     "text": [
      "RelativeCompactness : [0.98 0.9  0.86 0.82 0.79 0.76 0.74 0.71 0.69 0.66 0.64 0.62]\n",
      "SurfaceArea : [514.5 563.5 588.  612.5 637.  661.5 686.  710.5 735.  759.5 784.  808.5]\n",
      "WallArea : [294.  318.5 343.  416.5 245.  269.5 367.5]\n",
      "RoofArea : [110.25 122.5  147.   220.5 ]\n",
      "OverallHeight : [7.  3.5]\n",
      "Orientation : [2 3 4 5]\n",
      "GlazingArea : [0.   0.1  0.25 0.4 ]\n",
      "GlazingAreaDist : [0 1 2 3 4 5]\n",
      "HeatingLoad : [15.55  20.84  21.46  20.71  19.68  19.5   19.95  19.34  18.31  17.05\n",
      " 17.41  16.95  15.98  28.52  29.9   29.63  28.75  24.77  23.93   6.07\n",
      "  6.05   6.01   6.04   6.37   6.4    6.366  6.85   6.79   6.77   6.81\n",
      "  7.18   7.1   10.85  10.54  10.77  10.56   8.6    8.49   8.45   8.5\n",
      " 24.58  24.63  24.59  29.03  29.87  29.14  28.09  26.28  26.91  26.37\n",
      " 25.27  23.53  24.03  23.54  22.58  35.56  37.12  36.9   35.94  32.96\n",
      " 32.12  32.94  32.21  10.36  10.43  10.39  10.71  10.8   10.7   10.75\n",
      " 11.11  11.13  11.09  11.16  11.68  11.69  11.7   15.41  15.2   15.42\n",
      " 15.21  12.96  12.97  12.93  13.02  24.29  24.31  24.13  24.25  28.88\n",
      " 29.68  28.83  27.9   26.48  27.02  26.33  25.36  23.75  24.23  23.67\n",
      " 22.79  35.65  37.26  36.97  36.03  33.16  32.4   33.12  32.41  10.42\n",
      " 10.46  10.32  10.45  10.64  10.72  10.55  10.68  11.45  11.46  11.32\n",
      " 11.49  11.42  11.33  11.43  15.18  15.34  15.19  12.88  13.    13.04\n",
      " 24.28  24.4   24.11  24.35  28.07  29.01  29.62  29.05  25.41  26.47\n",
      " 26.89  26.46  22.93  23.84  24.17  23.87  35.78  35.48  36.7   32.52\n",
      " 33.28  32.33  33.24  10.34  10.35  10.38  11.22  11.1   11.14  11.59\n",
      " 11.6   11.53  11.61  15.16  15.36  15.12  12.68  12.63  12.71  12.73\n",
      " 24.38  24.04  24.32  29.06  28.05  28.86  29.79  26.44  25.37  27.03\n",
      " 23.8   22.8   23.59  24.24  36.86  35.89  35.45  37.1   33.08  32.38\n",
      " 33.09  32.31  10.08  10.15  10.07  10.14  10.66  10.53  11.18  11.07\n",
      " 11.2   11.44  15.4   15.32  12.85  24.33  24.26  29.83  29.08  28.03\n",
      " 29.02  26.45  24.37  23.89  22.89  23.86  37.03  36.71  36.77  33.21\n",
      " 32.46  33.27  10.47  10.37  10.78  10.67  13.69  11.21  11.38  11.34\n",
      " 15.37  12.59  12.74  12.8   12.62  28.15  28.37  28.41  32.68  33.48\n",
      " 32.84  32.    29.54  30.05  29.6   28.66  26.84  27.27  26.97  26.19\n",
      " 38.67  40.03  39.86  39.04  36.96  36.13  36.91  36.43  12.43  12.5\n",
      " 12.41  12.45  12.57  12.65  12.78  12.72  13.17  13.18  17.5   17.35\n",
      " 17.52  17.37  15.09  15.08  28.67  28.57  28.18  28.6   31.66  29.34\n",
      " 29.27  28.4   25.74  25.98  25.38  24.94  38.57  40.19  39.97  38.98\n",
      " 36.95  36.28  36.45  12.35  12.16  12.3   12.33  12.29  12.2   12.49\n",
      " 12.87  12.95  13.05  12.77  17.14  16.84  17.02  17.11  14.34  14.66\n",
      " 14.6   28.56  28.17  28.63  31.63  32.29  29.4   29.43  29.07  24.7\n",
      " 25.48  25.17  38.35  39.81  39.83  35.99  36.59  35.64  36.52  11.8\n",
      " 12.03  11.98  12.28  12.1   12.19  12.34  12.46  12.31  12.12  13.01\n",
      " 12.84  16.83  16.93  16.66  16.86  13.91  13.95  13.99  28.7   28.55\n",
      " 28.62  32.67  31.69  32.07  29.47  28.42  29.88  25.66  24.96  25.43\n",
      " 26.    40.    38.84  38.33  40.12  36.81  36.26  12.32  12.18  12.36\n",
      " 12.17  12.91  12.67  12.86  12.92  16.99  16.69  16.56  16.62  14.33\n",
      " 14.61  14.65  28.69  28.58  28.61  33.13  31.53  29.71  29.09  28.31\n",
      " 29.39  25.7   24.6   25.49  39.89  39.01  38.65  35.69  36.64  36.06\n",
      " 11.67  11.64  12.02  12.27  12.25  12.47  12.82  16.73  16.76  16.92\n",
      " 13.68  14.16  13.86  32.26  32.49  32.53  36.47  37.24  36.66  35.96\n",
      " 31.89  32.39  32.09  31.29  29.22  29.91  29.53  28.65  41.4   42.62\n",
      " 42.5   41.67  40.78  40.71  40.43  14.52  14.5   14.55  14.51  14.58\n",
      " 14.7   14.42  15.23  19.52  19.36  19.48  19.42  17.17  32.82  32.71\n",
      " 32.24  32.72  35.84  36.57  32.48  32.74  32.13  31.64  28.95  29.49\n",
      " 28.64  28.01  41.64  43.1   42.74  41.92  40.15  40.57  40.42  14.54\n",
      " 14.45  14.18  14.4   14.71  14.75  14.62  15.29  15.3   19.2   18.88\n",
      " 18.9   19.12  17.23  17.26  17.15  32.69  32.23  32.75  34.24  34.95\n",
      " 35.05  34.29  31.28  32.05  31.84  29.67  28.91  41.26  41.3   42.49\n",
      " 42.08  39.32  39.84  38.89  39.68  13.97  14.22  14.1   13.78  14.07\n",
      " 14.03  13.94  14.32  14.56  14.08  14.72  14.9   18.48  18.71  18.46\n",
      " 16.47  16.35  16.55  16.74  32.85  35.73  35.4   32.15  28.93  29.52\n",
      " 42.77  41.73  41.32  42.96  40.68  40.4   40.6   40.11  14.37  14.48\n",
      " 14.44  14.47  14.53  19.06  19.13  19.    18.84  16.44  16.9   16.94\n",
      " 16.77  32.73  35.67  35.01  34.72  35.24  31.81  31.12  32.06  30.\n",
      " 29.5   29.92  42.11  41.96  41.09  40.79  38.82  39.72  39.31  14.41\n",
      " 14.19  14.17  14.39  12.76  12.42  14.12  14.28  14.21  14.96  14.92\n",
      " 17.69  18.19  18.16  17.88  16.54  16.48  16.64 ]\n",
      "CoolingLoad : [21.33 28.28 25.38 25.16 29.6  27.3  21.97 23.49 27.87 23.77 21.46 21.16\n",
      " 24.93 37.73 31.27 30.93 39.44 29.79 29.68 29.4  10.9  11.19 10.94 11.17\n",
      " 11.27 11.72 11.29 11.67 11.74 12.05 11.73 11.93 12.4  12.23 12.14 16.78\n",
      " 16.8  16.75 16.67 12.07 12.22 12.08 12.04 26.47 26.37 26.44 26.29 32.92\n",
      " 29.87 29.58 34.33 30.89 25.6  27.03 31.73 27.31 24.91 24.61 28.51 41.68\n",
      " 35.28 34.43 43.33 33.87 34.07 34.14 33.67 13.43 13.71 13.48 13.7  13.8\n",
      " 14.28 13.87 14.27 14.61 14.3  14.45 13.9  13.72 13.88 13.65 19.37 19.43\n",
      " 19.34 19.32 14.34 14.5  14.33 25.95 25.63 26.13 25.89 32.54 29.44 29.36\n",
      " 34.2  30.91 27.36 31.9  27.38 25.02 24.8  28.79 41.07 34.62 42.86 33.91\n",
      " 34.17 33.78 13.39 13.57 13.79 13.67 14.11 14.21 13.2  13.54 13.32 13.51\n",
      " 14.86 14.75 15.   14.74 19.23 19.3  14.37 14.57 14.24 25.68 26.02 25.84\n",
      " 26.14 32.85 30.08 29.67 31.01 25.9  27.4  28.68 27.54 25.35 43.12 41.22\n",
      " 35.1  34.29 33.85 34.11 34.48 34.5  13.6  13.36 13.49 14.14 13.77 14.44\n",
      " 14.67 14.4  13.46 13.59 13.83 19.14 19.18 19.29 14.09 14.23 13.89 25.91\n",
      " 25.72 26.18 25.87 29.34 32.83 29.92 27.17 31.76 31.06 25.81 28.61 27.57\n",
      " 34.25 43.3  41.86 35.29 33.62 33.89 34.05 13.21 13.53 14.12 14.2  14.29\n",
      " 14.49 14.42 14.73 14.83 19.24 19.25 19.42 19.48 14.47 25.64 25.98 25.88\n",
      " 29.82 29.52 34.45 33.01 25.82 27.33 32.04 31.28 25.11 24.77 28.88 27.69\n",
      " 34.99 34.18 43.14 41.26 34.35 33.64 33.88 13.44 13.5  14.18 13.75 14.26\n",
      " 14.55 14.46 14.39 14.54 14.81 14.65 14.87 19.26 13.97 13.99 14.15 29.28\n",
      " 29.49 36.12 33.17 32.71 37.58 33.98 30.12 34.73 30.17 27.84 27.25 31.39\n",
      " 43.8  37.81 36.85 45.52 37.45 36.62 15.19 15.5  15.28 15.42 15.85 15.44\n",
      " 15.81 15.21 15.63 15.48 15.78 16.39 16.27 16.19 21.13 21.19 21.09 21.08\n",
      " 15.77 15.95 15.76 29.62 29.69 30.18 30.02 35.56 32.64 32.77 37.72 33.37\n",
      " 27.89 29.9  34.52 28.27 26.96 26.72 29.88 43.86 37.41 36.77 45.97 36.87\n",
      " 37.35 37.28 36.81 15.1  15.18 14.91 15.4  14.94 15.32 15.52 15.66 15.99\n",
      " 15.89 16.22 15.87 20.47 20.56 20.48 20.43 15.64 15.14 15.3  29.43 29.78\n",
      " 30.1  30.19 36.35 32.46 33.52 32.93 28.38 28.77 27.76 26.95 26.41 45.13\n",
      " 43.66 37.76 36.07 36.44 37.29 14.72 14.76 14.92 15.57 14.38 15.17 15.53\n",
      " 15.8  16.14 16.26 19.87 20.03 20.46 20.28 14.89 14.96 14.35 29.61 29.59\n",
      " 32.12 37.12 36.16 33.16 29.45 34.19 33.93 28.31 26.3  28.76 27.34 36.26\n",
      " 45.48 44.16 37.26 37.2  36.76 37.05 37.51 15.24 15.03 15.35 15.09 15.2\n",
      " 15.37 15.73 15.83 16.13 15.59 16.17 19.65 19.76 20.37 19.9  15.41 15.56\n",
      " 15.07 15.38 29.53 29.77 30.   30.2  32.25 32.   37.19 35.62 28.02 34.15\n",
      " 33.47 26.53 26.08 29.31 28.14 37.54 36.66 45.28 43.73 36.93 37.01 35.73\n",
      " 36.15 14.48 14.58 14.03 15.27 14.71 15.23 14.97 15.22 14.6  16.03 16.06\n",
      " 20.13 20.01 20.19 20.29 33.34 33.04 39.28 36.38 35.92 40.99 35.99 30.66\n",
      " 31.7  36.73 31.71 29.13 28.99 33.54 45.29 39.07 38.35 46.94 39.55 40.85\n",
      " 40.63 39.48 16.94 17.25 17.03 17.1  17.51 17.12 17.47 16.5  17.   16.87\n",
      " 17.2  18.14 18.03 17.95 22.72 22.73 22.53 17.21 17.15 32.96 33.13 33.94\n",
      " 35.39 34.94 40.66 35.48 30.53 32.28 36.86 30.34 27.93 28.95 45.59 39.41\n",
      " 38.84 48.03 40.4  40.47 39.7  16.43 16.93 16.99 16.77 17.37 17.27 16.44\n",
      " 17.01 17.23 17.22 17.85 17.89 18.36 18.15 21.72 22.07 22.09 21.93 17.36\n",
      " 17.38 16.86 32.78 33.24 33.86 34.   35.04 33.82 33.31 35.22 34.7  30.11\n",
      " 31.6  32.43 30.65 29.64 46.44 44.18 38.81 38.23 38.17 38.48 39.66 40.1\n",
      " 16.08 15.39 16.57 16.6  16.11 15.47 16.7  16.1  16.35 15.84 17.02 17.04\n",
      " 17.63 18.1  18.22 20.78 20.72 21.54 21.53 16.9  17.14 16.56 16.   32.95\n",
      " 33.06 33.95 39.92 39.22 36.1  31.53 36.2  36.21 31.   28.2  32.35 31.14\n",
      " 28.43 38.33 47.59 46.23 39.56 40.36 39.67 39.85 40.77 16.61 16.74 17.32\n",
      " 16.85 17.74 16.81 16.88 17.39 17.86 17.82 18.24 21.68 22.25 22.49 16.79\n",
      " 16.58 32.88 33.23 33.76 34.01 33.14 38.79 37.27 31.2  35.71 29.93 29.56\n",
      " 33.84 38.56 37.7  47.01 44.87 39.37 39.8  37.79 38.18 16.69 16.62 15.33\n",
      " 15.31 16.63 16.54 17.64 17.79 17.55 18.06 20.82 20.21 20.71 21.4  17.11]\n"
     ]
    }
   ],
   "source": [
    "# her bir sutunun unique değerleri\n",
    "for variable in data.columns:\n",
    "    print(variable,\":\",data[variable].unique())"
   ]
  },
  {
   "cell_type": "markdown",
   "id": "3f695c69-a7dc-4e50-8dbf-53be60ff9def",
   "metadata": {},
   "source": [
    "<a id=\"3\"></a><br>\n",
    "### 3.Variable Analysis"
   ]
  },
  {
   "cell_type": "code",
   "execution_count": 75,
   "id": "ef8d14df-d356-4cb7-b7e2-24ebad0ada05",
   "metadata": {},
   "outputs": [],
   "source": [
    "# verilerin dağılımını görme\n",
    "def variable_plot(variable,color):\n",
    "    plt.figure(figsize=(9,3))\n",
    "    plt.hist(data[variable], bins=50,color=color)\n",
    "    plt.xlabel(variable)\n",
    "    plt.title(\"{} Distribution\".format(variable))\n",
    "    plt.show()"
   ]
  },
  {
   "cell_type": "code",
   "execution_count": 76,
   "id": "369d9e01-e29e-40fc-9a2d-4d61620f58c7",
   "metadata": {
    "tags": []
   },
   "outputs": [
    {
     "data": {
      "image/png": "[encoded data removed]",
      "text/plain": [
       "<Figure size 648x216 with 1 Axes>"
      ]
     },
     "metadata": {
      "needs_background": "light"
     },
     "output_type": "display_data"
    },
    {
     "data": {
      "image/png": "[encoded data removed]",
      "text/plain": [
       "<Figure size 648x216 with 1 Axes>"
      ]
     },
     "metadata": {
      "needs_background": "light"
     },
     "output_type": "display_data"
    },
    {
     "data": {
      "image/png": "[encoded data removed]",
      "text/plain": [
       "<Figure size 648x216 with 1 Axes>"
      ]
     },
     "metadata": {
      "needs_background": "light"
     },
     "output_type": "display_data"
    },
    {
     "data": {
      "image/png": "[encoded data removed]",
      "text/plain": [
       "<Figure size 648x216 with 1 Axes>"
      ]
     },
     "metadata": {
      "needs_background": "light"
     },
     "output_type": "display_data"
    },
    {
     "data": {
      "image/png": "[encoded data removed]",
      "text/plain": [
       "<Figure size 648x216 with 1 Axes>"
      ]
     },
     "metadata": {
      "needs_background": "light"
     },
     "output_type": "display_data"
    },
    {
     "data": {
      "image/png": "[encoded data removed]",
      "text/plain": [
       "<Figure size 648x216 with 1 Axes>"
      ]
     },
     "metadata": {
      "needs_background": "light"
     },
     "output_type": "display_data"
    },
    {
     "data": {
      "image/png": "[encoded data removed]",
      "text/plain": [
       "<Figure size 648x216 with 1 Axes>"
      ]
     },
     "metadata": {
      "needs_background": "light"
     },
     "output_type": "display_data"
    },
    {
     "data": {
      "image/png": "[encoded data removed]",
      "text/plain": [
       "<Figure size 648x216 with 1 Axes>"
      ]
     },
     "metadata": {
      "needs_background": "light"
     },
     "output_type": "display_data"
    },
    {
     "data": {
      "image/png": "[encoded data removed]",
      "text/plain": [
       "<Figure size 648x216 with 1 Axes>"
      ]
     },
     "metadata": {
      "needs_background": "light"
     },
     "output_type": "display_data"
    },
    {
     "data": {
      "image/png": "[encoded data removed]",
      "text/plain": [
       "<Figure size 648x216 with 1 Axes>"
      ]
     },
     "metadata": {
      "needs_background": "light"
     },
     "output_type": "display_data"
    }
   ],
   "source": [
    "color_list = [\"green\", \"blue\", \"orange\", \"yellow\", \"purple\", \"red\", \"green\", \"blue\", \"orange\", \"yellow\"]\n",
    "column_list = list(data.columns)\n",
    "for i in range(10):\n",
    "    variable_plot(column_list[i],color_list[i])"
   ]
  },
  {
   "cell_type": "markdown",
   "id": "86335b4e-7a3c-46fc-ac5a-46c3edfd9de7",
   "metadata": {},
   "source": [
    "<a id=\"4\"></a><br>\n",
    "### 4.Basic Data Analysis"
   ]
  },
  {
   "cell_type": "markdown",
   "id": "8d3906cf-39d0-4500-820f-5807701f7676",
   "metadata": {},
   "source": [
    "* Orientation-HeatingLoad (Binanın hangi yöne baktığının ısıtma yüküne etkisi nedir?)\n",
    "* Orientation-CoolingLoad (Binanın hangi yöne baktığının soğutma yüküne etkisi nedir?)\n",
    "* GlazingArea-HeatingLoad (Cam Alanının ısıtma yüküne etkisi nedir?)\n",
    "* GlazingArea-CoolingLoad (Cam alanının soğutma yüküne etkisi nedir?)"
   ]
  },
  {
   "cell_type": "code",
   "execution_count": 77,
   "id": "041505b8-0829-499a-8baa-6adb9094c9d8",
   "metadata": {},
   "outputs": [
    {
     "data": {
      "text/html": [
       "<div>\n",
       "<style scoped>\n",
       "    .dataframe tbody tr th:only-of-type {\n",
       "        vertical-align: middle;\n",
       "    }\n",
       "\n",
       "    .dataframe tbody tr th {\n",
       "        vertical-align: top;\n",
       "    }\n",
       "\n",
       "    .dataframe thead th {\n",
       "        text-align: right;\n",
       "    }\n",
       "</style>\n",
       "<table border=\"1\" class=\"dataframe\">\n",
       "  <thead>\n",
       "    <tr style=\"text-align: right;\">\n",
       "      <th></th>\n",
       "      <th>Orientation</th>\n",
       "      <th>HeatingLoad</th>\n",
       "    </tr>\n",
       "  </thead>\n",
       "  <tbody>\n",
       "    <tr>\n",
       "      <th>1</th>\n",
       "      <td>3</td>\n",
       "      <td>22.380677</td>\n",
       "    </tr>\n",
       "    <tr>\n",
       "      <th>0</th>\n",
       "      <td>2</td>\n",
       "      <td>22.312865</td>\n",
       "    </tr>\n",
       "    <tr>\n",
       "      <th>3</th>\n",
       "      <td>5</td>\n",
       "      <td>22.275365</td>\n",
       "    </tr>\n",
       "    <tr>\n",
       "      <th>2</th>\n",
       "      <td>4</td>\n",
       "      <td>22.259875</td>\n",
       "    </tr>\n",
       "  </tbody>\n",
       "</table>\n",
       "</div>"
      ],
      "text/plain": [
       "   Orientation  HeatingLoad\n",
       "1            3    22.380677\n",
       "0            2    22.312865\n",
       "3            5    22.275365\n",
       "2            4    22.259875"
      ]
     },
     "execution_count": 77,
     "metadata": {},
     "output_type": "execute_result"
    }
   ],
   "source": [
    "# Orientation-HeatingLoad\n",
    "data[[\"Orientation\",\"HeatingLoad\"]].groupby([\"Orientation\"], as_index=False).mean().sort_values(by=\"HeatingLoad\", ascending=False)"
   ]
  },
  {
   "cell_type": "code",
   "execution_count": 78,
   "id": "d2bf791a-9591-4d2a-891b-d5241d333a75",
   "metadata": {},
   "outputs": [
    {
     "data": {
      "text/html": [
       "<div>\n",
       "<style scoped>\n",
       "    .dataframe tbody tr th:only-of-type {\n",
       "        vertical-align: middle;\n",
       "    }\n",
       "\n",
       "    .dataframe tbody tr th {\n",
       "        vertical-align: top;\n",
       "    }\n",
       "\n",
       "    .dataframe thead th {\n",
       "        text-align: right;\n",
       "    }\n",
       "</style>\n",
       "<table border=\"1\" class=\"dataframe\">\n",
       "  <thead>\n",
       "    <tr style=\"text-align: right;\">\n",
       "      <th></th>\n",
       "      <th>Orientation</th>\n",
       "      <th>CoolingLoad</th>\n",
       "    </tr>\n",
       "  </thead>\n",
       "  <tbody>\n",
       "    <tr>\n",
       "      <th>3</th>\n",
       "      <td>5</td>\n",
       "      <td>24.953646</td>\n",
       "    </tr>\n",
       "    <tr>\n",
       "      <th>0</th>\n",
       "      <td>2</td>\n",
       "      <td>24.604531</td>\n",
       "    </tr>\n",
       "    <tr>\n",
       "      <th>2</th>\n",
       "      <td>4</td>\n",
       "      <td>24.480313</td>\n",
       "    </tr>\n",
       "    <tr>\n",
       "      <th>1</th>\n",
       "      <td>3</td>\n",
       "      <td>24.312552</td>\n",
       "    </tr>\n",
       "  </tbody>\n",
       "</table>\n",
       "</div>"
      ],
      "text/plain": [
       "   Orientation  CoolingLoad\n",
       "3            5    24.953646\n",
       "0            2    24.604531\n",
       "2            4    24.480313\n",
       "1            3    24.312552"
      ]
     },
     "execution_count": 78,
     "metadata": {},
     "output_type": "execute_result"
    }
   ],
   "source": [
    "# Orientation-CoolingLoad\n",
    "data[[\"Orientation\",\"CoolingLoad\"]].groupby([\"Orientation\"], as_index=False).mean().sort_values(by=\"CoolingLoad\", ascending=False)"
   ]
  },
  {
   "cell_type": "code",
   "execution_count": 79,
   "id": "5b04a0c8-e31d-4b13-b3b2-728c6927e2df",
   "metadata": {},
   "outputs": [
    {
     "data": {
      "text/html": [
       "<div>\n",
       "<style scoped>\n",
       "    .dataframe tbody tr th:only-of-type {\n",
       "        vertical-align: middle;\n",
       "    }\n",
       "\n",
       "    .dataframe tbody tr th {\n",
       "        vertical-align: top;\n",
       "    }\n",
       "\n",
       "    .dataframe thead th {\n",
       "        text-align: right;\n",
       "    }\n",
       "</style>\n",
       "<table border=\"1\" class=\"dataframe\">\n",
       "  <thead>\n",
       "    <tr style=\"text-align: right;\">\n",
       "      <th></th>\n",
       "      <th>GlazingArea</th>\n",
       "      <th>HeatingLoad</th>\n",
       "    </tr>\n",
       "  </thead>\n",
       "  <tbody>\n",
       "    <tr>\n",
       "      <th>3</th>\n",
       "      <td>0.40</td>\n",
       "      <td>25.411667</td>\n",
       "    </tr>\n",
       "    <tr>\n",
       "      <th>2</th>\n",
       "      <td>0.25</td>\n",
       "      <td>22.756917</td>\n",
       "    </tr>\n",
       "    <tr>\n",
       "      <th>1</th>\n",
       "      <td>0.10</td>\n",
       "      <td>20.357167</td>\n",
       "    </tr>\n",
       "    <tr>\n",
       "      <th>0</th>\n",
       "      <td>0.00</td>\n",
       "      <td>14.286375</td>\n",
       "    </tr>\n",
       "  </tbody>\n",
       "</table>\n",
       "</div>"
      ],
      "text/plain": [
       "   GlazingArea  HeatingLoad\n",
       "3         0.40    25.411667\n",
       "2         0.25    22.756917\n",
       "1         0.10    20.357167\n",
       "0         0.00    14.286375"
      ]
     },
     "execution_count": 79,
     "metadata": {},
     "output_type": "execute_result"
    }
   ],
   "source": [
    "# GlazingArea - HeatinLoad\n",
    "data[[\"GlazingArea\",\"HeatingLoad\"]].groupby([\"GlazingArea\"], as_index=False).mean().sort_values(by=\"HeatingLoad\", ascending=False)"
   ]
  },
  {
   "cell_type": "code",
   "execution_count": 80,
   "id": "dc1157c8-b0b7-4738-8321-40c4b353c591",
   "metadata": {},
   "outputs": [
    {
     "data": {
      "text/html": [
       "<div>\n",
       "<style scoped>\n",
       "    .dataframe tbody tr th:only-of-type {\n",
       "        vertical-align: middle;\n",
       "    }\n",
       "\n",
       "    .dataframe tbody tr th {\n",
       "        vertical-align: top;\n",
       "    }\n",
       "\n",
       "    .dataframe thead th {\n",
       "        text-align: right;\n",
       "    }\n",
       "</style>\n",
       "<table border=\"1\" class=\"dataframe\">\n",
       "  <thead>\n",
       "    <tr style=\"text-align: right;\">\n",
       "      <th></th>\n",
       "      <th>GlazingArea</th>\n",
       "      <th>CoolingLoad</th>\n",
       "    </tr>\n",
       "  </thead>\n",
       "  <tbody>\n",
       "    <tr>\n",
       "      <th>3</th>\n",
       "      <td>0.40</td>\n",
       "      <td>26.911417</td>\n",
       "    </tr>\n",
       "    <tr>\n",
       "      <th>2</th>\n",
       "      <td>0.25</td>\n",
       "      <td>24.892625</td>\n",
       "    </tr>\n",
       "    <tr>\n",
       "      <th>1</th>\n",
       "      <td>0.10</td>\n",
       "      <td>22.935542</td>\n",
       "    </tr>\n",
       "    <tr>\n",
       "      <th>0</th>\n",
       "      <td>0.00</td>\n",
       "      <td>19.706250</td>\n",
       "    </tr>\n",
       "  </tbody>\n",
       "</table>\n",
       "</div>"
      ],
      "text/plain": [
       "   GlazingArea  CoolingLoad\n",
       "3         0.40    26.911417\n",
       "2         0.25    24.892625\n",
       "1         0.10    22.935542\n",
       "0         0.00    19.706250"
      ]
     },
     "execution_count": 80,
     "metadata": {},
     "output_type": "execute_result"
    }
   ],
   "source": [
    "# GlazingArea - CoolingLoad\n",
    "data[[\"GlazingArea\",\"CoolingLoad\"]].groupby([\"GlazingArea\"], as_index=False).mean().sort_values(by=\"CoolingLoad\", ascending=False)"
   ]
  },
  {
   "cell_type": "markdown",
   "id": "100e4a7c-6693-487e-87e8-a6c0df7d8830",
   "metadata": {},
   "source": [
    "<a id=\"5\"></a><br>\n",
    "### 5.Outlier Detection"
   ]
  },
  {
   "cell_type": "code",
   "execution_count": 81,
   "id": "5f203b0b-b5a4-4f54-8826-d20280020b0a",
   "metadata": {
    "tags": []
   },
   "outputs": [
    {
     "data": {
      "image/png": "[encoded data removed]",
      "text/plain": [
       "<Figure size 432x288 with 1 Axes>"
      ]
     },
     "metadata": {
      "needs_background": "light"
     },
     "output_type": "display_data"
    },
    {
     "data": {
      "image/png": "[encoded data removed]",
      "text/plain": [
       "<Figure size 432x288 with 1 Axes>"
      ]
     },
     "metadata": {
      "needs_background": "light"
     },
     "output_type": "display_data"
    },
    {
     "data": {
      "image/png": "[encoded data removed]",
      "text/plain": [
       "<Figure size 432x288 with 1 Axes>"
      ]
     },
     "metadata": {
      "needs_background": "light"
     },
     "output_type": "display_data"
    },
    {
     "data": {
      "image/png": "[encoded data removed]",
      "text/plain": [
       "<Figure size 432x288 with 1 Axes>"
      ]
     },
     "metadata": {
      "needs_background": "light"
     },
     "output_type": "display_data"
    },
    {
     "data": {
      "image/png": "[encoded data removed]",
      "text/plain": [
       "<Figure size 432x288 with 1 Axes>"
      ]
     },
     "metadata": {
      "needs_background": "light"
     },
     "output_type": "display_data"
    },
    {
     "data": {
      "image/png": "[encoded data removed]",
      "text/plain": [
       "<Figure size 432x288 with 1 Axes>"
      ]
     },
     "metadata": {
      "needs_background": "light"
     },
     "output_type": "display_data"
    },
    {
     "data": {
      "image/png": "[encoded data removed]",
      "text/plain": [
       "<Figure size 432x288 with 1 Axes>"
      ]
     },
     "metadata": {
      "needs_background": "light"
     },
     "output_type": "display_data"
    },
    {
     "data": {
      "image/png": "[encoded data removed]",
      "text/plain": [
       "<Figure size 432x288 with 1 Axes>"
      ]
     },
     "metadata": {
      "needs_background": "light"
     },
     "output_type": "display_data"
    },
    {
     "data": {
      "image/png": "[encoded data removed]",
      "text/plain": [
       "<Figure size 432x288 with 1 Axes>"
      ]
     },
     "metadata": {
      "needs_background": "light"
     },
     "output_type": "display_data"
    },
    {
     "data": {
      "image/png": "[encoded data removed]",
      "text/plain": [
       "<Figure size 432x288 with 1 Axes>"
      ]
     },
     "metadata": {
      "needs_background": "light"
     },
     "output_type": "display_data"
    }
   ],
   "source": [
    "# box plot ile aykırı değer tespiti\n",
    "for i in data.columns:\n",
    "    sns.boxplot(x=data[i])\n",
    "    plt.show()"
   ]
  },
  {
   "cell_type": "markdown",
   "id": "7906b244-4c42-4d40-8a8c-dfc1f00c8e53",
   "metadata": {},
   "source": [
    "* Veri setinde aykırı veri bulunmamaktadır."
   ]
  },
  {
   "cell_type": "markdown",
   "id": "b8655b9c-db6f-4cad-9c42-66cb495a9ff2",
   "metadata": {},
   "source": [
    "<a id=\"6\"></a><br>\n",
    "### 6.Missing Value"
   ]
  },
  {
   "cell_type": "code",
   "execution_count": 82,
   "id": "4efc907d-e768-4061-81d0-cffe0f78e7aa",
   "metadata": {},
   "outputs": [
    {
     "data": {
      "text/plain": [
       "RelativeCompactness    0\n",
       "SurfaceArea            0\n",
       "WallArea               0\n",
       "RoofArea               0\n",
       "OverallHeight          0\n",
       "Orientation            0\n",
       "GlazingArea            0\n",
       "GlazingAreaDist        0\n",
       "HeatingLoad            0\n",
       "CoolingLoad            0\n",
       "dtype: int64"
      ]
     },
     "execution_count": 82,
     "metadata": {},
     "output_type": "execute_result"
    }
   ],
   "source": [
    "# veri setinde eksik veri var mı\n",
    "data.isnull().sum()"
   ]
  },
  {
   "cell_type": "markdown",
   "id": "c3950799-7658-4d6d-b8fd-78946fe7958d",
   "metadata": {},
   "source": [
    "* Veri setinde eksik veri bulunmamaktadır."
   ]
  },
  {
   "cell_type": "markdown",
   "id": "b22d4427-2937-4236-a169-8c21de408017",
   "metadata": {},
   "source": [
    "<a id=\"7\"></a><br>\n",
    "### 7.Data Visualization"
   ]
  },
  {
   "cell_type": "code",
   "execution_count": 83,
   "id": "17a6af77-70d1-4d06-b026-4ae4a9752e5c",
   "metadata": {},
   "outputs": [
    {
     "data": {
      "image/png": "[encoded data removed]",
      "text/plain": [
       "<Figure size 648x432 with 2 Axes>"
      ]
     },
     "metadata": {
      "needs_background": "light"
     },
     "output_type": "display_data"
    }
   ],
   "source": [
    "# veriler arasındaki korelasyonu görsel ile gösterme.\n",
    "plt.figure(figsize=(9,6))\n",
    "sns.heatmap(data.corr(), annot=True, fmt=\".2f\")\n",
    "plt.show()"
   ]
  },
  {
   "cell_type": "markdown",
   "id": "68a656f4-e51c-4102-8187-73319615ea50",
   "metadata": {},
   "source": [
    "<a id=\"8\"></a><br>\n",
    "### 8.Feature Selection"
   ]
  },
  {
   "cell_type": "code",
   "execution_count": 84,
   "id": "46999924-0a5d-4e26-a992-4876a9ed522d",
   "metadata": {},
   "outputs": [],
   "source": [
    "# bağımlı ve bağımsız değişken\n",
    "X = data.drop([\"HeatingLoad\", \"CoolingLoad\"],axis=1)\n",
    "y = data[[\"HeatingLoad\",\"CoolingLoad\"]]"
   ]
  },
  {
   "cell_type": "code",
   "execution_count": 85,
   "id": "02475764-7840-4878-a396-5bf53beab4c6",
   "metadata": {},
   "outputs": [],
   "source": [
    "# train-test split\n",
    "X_train, X_test, y_train, y_test = train_test_split(X, y, test_size=0.20, random_state=42)"
   ]
  },
  {
   "cell_type": "markdown",
   "id": "69df4c0e-54b5-4609-b26a-28a9db548f1d",
   "metadata": {},
   "source": [
    "<a id=\"9\"></a><br>\n",
    "### 9.Modelling"
   ]
  },
  {
   "cell_type": "markdown",
   "id": "86ccbab7-97b3-4f94-b7c1-79d16322a426",
   "metadata": {},
   "source": [
    "<a id=\"10\"></a><br>\n",
    "### Linear Regression"
   ]
  },
  {
   "cell_type": "code",
   "execution_count": 86,
   "id": "c55b6a0a-fbf4-4221-9e5b-5baa04d91511",
   "metadata": {},
   "outputs": [
    {
     "data": {
      "text/plain": [
       "LinearRegression()"
      ]
     },
     "execution_count": 86,
     "metadata": {},
     "output_type": "execute_result"
    }
   ],
   "source": [
    "# Model oluşturma\n",
    "from sklearn.linear_model import LinearRegression\n",
    "model = LinearRegression()\n",
    "model.fit(X_train, y_train)"
   ]
  },
  {
   "cell_type": "code",
   "execution_count": 87,
   "id": "91a6dd26-ae93-457e-bbac-b82d0029fadd",
   "metadata": {},
   "outputs": [
    {
     "name": "stdout",
     "output_type": "stream",
     "text": [
      "Test R2 Score:0.9027128187463034\n",
      "Test MSE:9.523082231345509\n",
      "Test RMSE:3.085949162145337\n",
      "Train R2 Score:0.9014483948281202\n",
      "Train MSE:9.30324780795088\n",
      "Traim RMSE:3.0501225890037404\n"
     ]
    }
   ],
   "source": [
    "# Tahmin \n",
    "# Test basarı skorları\n",
    "y_pred = model.predict(X_test)\n",
    "print(\"Test R2 Score:{}\".format(r2_score(y_test, y_pred)))\n",
    "print(\"Test MSE:{}\".format(mean_squared_error(y_test,y_pred)))\n",
    "print(\"Test RMSE:{}\".format(np.sqrt(mean_squared_error(y_test,y_pred))))\n",
    "\n",
    "# Tahmin basarı skorları\n",
    "y_pred_train = model.predict(X_train)\n",
    "print(\"Train R2 Score:{}\".format(r2_score(y_train, y_pred_train)))\n",
    "print(\"Train MSE:{}\".format(mean_squared_error(y_train,y_pred_train)))\n",
    "print(\"Traim RMSE:{}\".format(np.sqrt(mean_squared_error(y_train,y_pred_train))))"
   ]
  },
  {
   "cell_type": "code",
   "execution_count": 88,
   "id": "41d0ddf8-9bab-4330-b181-c167e39d091a",
   "metadata": {},
   "outputs": [
    {
     "data": {
      "image/png": "[encoded data removed]",
      "text/plain": [
       "<Figure size 432x288 with 1 Axes>"
      ]
     },
     "metadata": {
      "needs_background": "light"
     },
     "output_type": "display_data"
    }
   ],
   "source": [
    "sns.regplot(x=y_test[\"HeatingLoad\"], y=y_pred[:,0])\n",
    "plt.xlabel(\"Gercek degerler\")\n",
    "plt.ylabel(\"Tahmin degerleri\")\n",
    "plt.show()"
   ]
  },
  {
   "cell_type": "code",
   "execution_count": 89,
   "id": "06aa6a2b-5a3c-43e4-b8b3-be0f1a2c39d2",
   "metadata": {},
   "outputs": [
    {
     "data": {
      "image/png": "[encoded data removed]",
      "text/plain": [
       "<Figure size 432x288 with 1 Axes>"
      ]
     },
     "metadata": {
      "needs_background": "light"
     },
     "output_type": "display_data"
    }
   ],
   "source": [
    "sns.regplot(x=y_test[\"CoolingLoad\"], y=y_pred[:,1])\n",
    "plt.xlabel(\"Gercek degerler\")\n",
    "plt.ylabel(\"Tahmin degerleri\")\n",
    "plt.show()"
   ]
  },
  {
   "cell_type": "code",
   "execution_count": 90,
   "id": "1d9a88e3-5e26-4b3e-aaf8-04c6f226c150",
   "metadata": {
    "tags": []
   },
   "outputs": [
    {
     "name": "stdout",
     "output_type": "stream",
     "text": [
      "Train score degerleri:  [0.90900441 0.90347672 0.90680661 0.88885642 0.88077584 0.92008319\n",
      " 0.89838421 0.90826996 0.87270504 0.90175831]\n",
      "Train  Mean Score: 0.8990120690372676\n",
      "Train Std : 0.013586494551502752\n",
      "Train RMSE: 3.0652618159505662\n",
      "Train MSE: 9.517330612219375\n",
      "Test score degerleri:  [0.88238686 0.84934941 0.92768532 0.90841903 0.8470501  0.84279188\n",
      " 0.93720537 0.84815768 0.89835796 0.91833335]\n",
      "Test Mean Score: 0.8859736951149497\n",
      "Test Std : 0.03497545468593774\n",
      "Test RMSE: 3.1770875334904796\n",
      "Test MSE: 10.33600552876204\n"
     ]
    }
   ],
   "source": [
    "# Model doğrulama -> Doğrulanmış başarı metriklerimiz\n",
    "# Doğrulanmış Train başarı metrikleri\n",
    "kf = KFold(n_splits=10)\n",
    "train_score = cross_val_score(model, X_train, y_train, cv=kf, scoring=\"r2\")\n",
    "train_score_mean = train_score.mean()\n",
    "train_rmse = np.sqrt(-cross_val_score(model, X_train, y_train, cv=kf, scoring=\"neg_mean_squared_error\")).mean()\n",
    "train_mse = - cross_val_score(model, X_train, y_train, cv=kf, scoring=\"neg_mean_squared_error\").mean()\n",
    "print(\"Train score degerleri: \", train_score)\n",
    "print(\"Train  Mean Score:\", train_score_mean)\n",
    "print(\"Train Std : \" + str(train_score.std()))\n",
    "print(\"Train RMSE:\", train_rmse)\n",
    "print(\"Train MSE:\", train_mse)\n",
    "\n",
    "# Doğrulanmış Test başarı metrikleri\n",
    "test_score = cross_val_score(model, X_test, y_test, cv=kf, scoring=\"r2\")\n",
    "test_score_mean = test_score.mean()\n",
    "test_rmse = np.sqrt(-cross_val_score(model, X_test, y_test, cv=kf, scoring=\"neg_mean_squared_error\")).mean()\n",
    "test_mse = - cross_val_score(model, X_test, y_test, cv=kf, scoring=\"neg_mean_squared_error\").mean()\n",
    "print(\"Test score degerleri: \", test_score)\n",
    "print(\"Test Mean Score:\", test_score_mean)\n",
    "print(\"Test Std : \" + str(test_score.std()))\n",
    "print(\"Test RMSE:\", test_rmse)\n",
    "print(\"Test MSE:\", test_mse)"
   ]
  },
  {
   "cell_type": "markdown",
   "id": "6bc446e7-6d8a-4af3-aee9-194b31c95700",
   "metadata": {},
   "source": [
    "* 10 katlı cross validation bizim modelimizin daha güvenilir, doğrulanmış, valide edilmiş başarı metriklerini verir."
   ]
  },
  {
   "cell_type": "code",
   "execution_count": 91,
   "id": "2fefa78d-de42-4eb8-b01a-294ec3463d6d",
   "metadata": {},
   "outputs": [
    {
     "data": {
      "text/html": [
       "<div>\n",
       "<style scoped>\n",
       "    .dataframe tbody tr th:only-of-type {\n",
       "        vertical-align: middle;\n",
       "    }\n",
       "\n",
       "    .dataframe tbody tr th {\n",
       "        vertical-align: top;\n",
       "    }\n",
       "\n",
       "    .dataframe thead th {\n",
       "        text-align: right;\n",
       "    }\n",
       "</style>\n",
       "<table border=\"1\" class=\"dataframe\">\n",
       "  <thead>\n",
       "    <tr style=\"text-align: right;\">\n",
       "      <th></th>\n",
       "      <th>Success Criterion</th>\n",
       "      <th>Train Score Metrics</th>\n",
       "      <th>Test Score Metrics</th>\n",
       "    </tr>\n",
       "  </thead>\n",
       "  <tbody>\n",
       "    <tr>\n",
       "      <th>0</th>\n",
       "      <td>Score</td>\n",
       "      <td>0.899012</td>\n",
       "      <td>0.885974</td>\n",
       "    </tr>\n",
       "    <tr>\n",
       "      <th>1</th>\n",
       "      <td>RMSE</td>\n",
       "      <td>3.065262</td>\n",
       "      <td>3.177088</td>\n",
       "    </tr>\n",
       "    <tr>\n",
       "      <th>2</th>\n",
       "      <td>MSE</td>\n",
       "      <td>9.517331</td>\n",
       "      <td>10.336006</td>\n",
       "    </tr>\n",
       "  </tbody>\n",
       "</table>\n",
       "</div>"
      ],
      "text/plain": [
       "  Success Criterion  Train Score Metrics  Test Score Metrics\n",
       "0             Score             0.899012            0.885974\n",
       "1              RMSE             3.065262            3.177088\n",
       "2               MSE             9.517331           10.336006"
      ]
     },
     "execution_count": 91,
     "metadata": {},
     "output_type": "execute_result"
    }
   ],
   "source": [
    "success_criterion_dict={\"Success Criterion\": [\"Score\", \"RMSE\", \"MSE\"],\n",
    "                        \"Train Score Metrics\":[train_score_mean, train_rmse,train_mse], \n",
    "                        \"Test Score Metrics\":[test_score_mean, test_rmse, test_mse]}\n",
    "success_criterion_data = pd.DataFrame(success_criterion_dict)\n",
    "success_criterion_data"
   ]
  },
  {
   "cell_type": "markdown",
   "id": "76c1e2ad-5118-4285-99a1-6f1d0d1a8ed7",
   "metadata": {
    "tags": []
   },
   "source": [
    "<a id=\"11\"></a><br>\n",
    "### Random Forest"
   ]
  },
  {
   "cell_type": "code",
   "execution_count": 92,
   "id": "31b9d3f3-3a49-4984-ab20-e2e39b810099",
   "metadata": {},
   "outputs": [
    {
     "data": {
      "text/plain": [
       "RandomForestRegressor(random_state=42)"
      ]
     },
     "execution_count": 92,
     "metadata": {},
     "output_type": "execute_result"
    }
   ],
   "source": [
    "from sklearn.ensemble import RandomForestRegressor\n",
    "\n",
    "rf_model = RandomForestRegressor(random_state=42)\n",
    "rf_model.fit(X_train, y_train)"
   ]
  },
  {
   "cell_type": "code",
   "execution_count": 93,
   "id": "a35f66cc-ccb4-4c41-83d1-4bf80ff3432a",
   "metadata": {},
   "outputs": [
    {
     "name": "stdout",
     "output_type": "stream",
     "text": [
      "Test R2 Score:0.9792038454345106\n",
      "Test MSE:1.9406084904220775\n",
      "Test RMSE:1.3930572459242576\n",
      "Train R2 Score:0.9971803053437921\n",
      "Train MSE:0.25446159501628535\n",
      "Traim RMSE:0.5044418648529138\n"
     ]
    }
   ],
   "source": [
    "# Tahmin \n",
    "# Test basarı skorları\n",
    "y_pred = rf_model.predict(X_test)\n",
    "print(\"Test R2 Score:{}\".format(r2_score(y_test, y_pred)))\n",
    "print(\"Test MSE:{}\".format(mean_squared_error(y_test,y_pred)))\n",
    "print(\"Test RMSE:{}\".format(np.sqrt(mean_squared_error(y_test,y_pred))))\n",
    "\n",
    "# Tahmin basarı skorları\n",
    "y_pred_train = rf_model.predict(X_train)\n",
    "print(\"Train R2 Score:{}\".format(r2_score(y_train, y_pred_train)))\n",
    "print(\"Train MSE:{}\".format(mean_squared_error(y_train,y_pred_train)))\n",
    "print(\"Traim RMSE:{}\".format(np.sqrt(mean_squared_error(y_train,y_pred_train))))"
   ]
  },
  {
   "cell_type": "code",
   "execution_count": 94,
   "id": "99a3dc54-fd1c-463c-b76e-82c56f9caa6c",
   "metadata": {},
   "outputs": [
    {
     "data": {
      "text/plain": [
       "GridSearchCV(cv=10, estimator=RandomForestRegressor(random_state=42), n_jobs=-1,\n",
       "             param_grid={'max_depth': [1, 2, 3, 4, 5, 6, 7, 8, 9],\n",
       "                         'min_samples_leaf': [4, 5, 6],\n",
       "                         'min_samples_split': [3, 5, 7, 10],\n",
       "                         'n_estimators': [50, 100, 500, 1000]})"
      ]
     },
     "execution_count": 94,
     "metadata": {},
     "output_type": "execute_result"
    }
   ],
   "source": [
    "# en iyi hiperaparametre kombiansyonunu bulma\n",
    "rf_params = {'max_depth' : list(range(1,10)),\n",
    "             'min_samples_split': [3,5,7,10],\n",
    "             'min_samples_leaf' : [4,5,6],\n",
    "             'n_estimators': [50,100,500,1000]}\n",
    "rf_cv_model = GridSearchCV(rf_model, rf_params, cv=10, n_jobs=-1)\n",
    "rf_cv_model.fit(X_train,y_train)"
   ]
  },
  {
   "cell_type": "code",
   "execution_count": 95,
   "id": "c047486e-07ac-4675-8737-63434623314a",
   "metadata": {},
   "outputs": [
    {
     "name": "stdout",
     "output_type": "stream",
     "text": [
      "En iyi parametre kombinasyonu: {'max_depth': 7, 'min_samples_leaf': 4, 'min_samples_split': 10, 'n_estimators': 1000}\n",
      "En iyi Skor: 0.9789236520346103\n"
     ]
    }
   ],
   "source": [
    "print(\"En iyi parametre kombinasyonu:\",rf_cv_model.best_params_)\n",
    "print(\"En iyi Skor:\", rf_cv_model.best_score_)"
   ]
  },
  {
   "cell_type": "code",
   "execution_count": 96,
   "id": "6a73d055-f2f8-413d-a7c3-c7da154c464b",
   "metadata": {},
   "outputs": [
    {
     "name": "stdout",
     "output_type": "stream",
     "text": [
      "Test R2 Score:0.9787812333108616\n",
      "Test MSE:1.9902550922063837\n",
      "Test RMSE:1.41076401010459\n",
      "Train R2 Score:0.9847725982639846\n",
      "Train MSE:1.3858772456723663\n",
      "Traim RMSE:1.1772328765679143\n"
     ]
    }
   ],
   "source": [
    "# belirlenmiş parametreler ile modelin yeniden oluşturulması\n",
    "rf_tuned_model = RandomForestRegressor(max_depth=7, min_samples_leaf=4, min_samples_split=10, n_estimators=1000)\n",
    "rf_tuned_model.fit(X_train, y_train)\n",
    "\n",
    "# Tahmin \n",
    "# Test basarı skorları\n",
    "y_pred = rf_tuned_model.predict(X_test)\n",
    "print(\"Test R2 Score:{}\".format(r2_score(y_test, y_pred)))\n",
    "print(\"Test MSE:{}\".format(mean_squared_error(y_test,y_pred)))\n",
    "print(\"Test RMSE:{}\".format(np.sqrt(mean_squared_error(y_test,y_pred))))\n",
    "\n",
    "# Tahmin basarı skorları\n",
    "y_pred_train = rf_tuned_model.predict(X_train)\n",
    "print(\"Train R2 Score:{}\".format(r2_score(y_train, y_pred_train)))\n",
    "print(\"Train MSE:{}\".format(mean_squared_error(y_train,y_pred_train)))\n",
    "print(\"Traim RMSE:{}\".format(np.sqrt(mean_squared_error(y_train,y_pred_train))))"
   ]
  },
  {
   "cell_type": "code",
   "execution_count": 97,
   "id": "30b0a317-62b9-45a7-be1d-3fa83e8d4ffd",
   "metadata": {},
   "outputs": [
    {
     "data": {
      "image/png": "[encoded data removed]",
      "text/plain": [
       "<Figure size 432x288 with 1 Axes>"
      ]
     },
     "metadata": {
      "needs_background": "light"
     },
     "output_type": "display_data"
    }
   ],
   "source": [
    "sns.regplot(x=y_test[\"HeatingLoad\"], y=y_pred[:,0])\n",
    "plt.xlabel(\"Gercek degerler\")\n",
    "plt.ylabel(\"Tahmin degerleri\")\n",
    "plt.show()"
   ]
  },
  {
   "cell_type": "code",
   "execution_count": 98,
   "id": "601b3235-2b69-4ec3-8f1c-b5dc100fadf7",
   "metadata": {},
   "outputs": [
    {
     "data": {
      "image/png": "[encoded data removed]",
      "text/plain": [
       "<Figure size 432x288 with 1 Axes>"
      ]
     },
     "metadata": {
      "needs_background": "light"
     },
     "output_type": "display_data"
    }
   ],
   "source": [
    "sns.regplot(x=y_test[\"CoolingLoad\"], y=y_pred[:,1])\n",
    "plt.xlabel(\"Gercek degerler\")\n",
    "plt.ylabel(\"Tahmin degerleri\")\n",
    "plt.show()"
   ]
  },
  {
   "cell_type": "code",
   "execution_count": 99,
   "id": "8b4880d5-45c6-4974-b3fc-d0322d5f04fd",
   "metadata": {},
   "outputs": [
    {
     "name": "stdout",
     "output_type": "stream",
     "text": [
      "Train score degerleri:  [0.9826113  0.97837251 0.97995195 0.98221312 0.9773192  0.98216398\n",
      " 0.97811863 0.97516046 0.98043455 0.97332888]\n",
      "Train  Mean Score: 0.9789674594709264\n",
      "Train Std : 0.0029534600789865853\n",
      "Train RMSE: 1.366234309754492\n",
      "Train MSE: 1.865056366351217\n",
      "Test score degerleri:  [0.93924095 0.95420077 0.96044441 0.96865318 0.9535361  0.93806798\n",
      " 0.97218097 0.82711357 0.91691305 0.91649167]\n",
      "Test Mean Score: 0.934684265293026\n",
      "Test Std : 0.0402619115279646\n",
      "Test RMSE: 2.3173896047326656\n",
      "Test MSE: 5.603688410424281\n"
     ]
    }
   ],
   "source": [
    "# Model doğrulama -> Doğrulanmış başarı metriklerimiz\n",
    "# Doğrulanmış Train başarı metrikleri\n",
    "kf = KFold(n_splits=10)\n",
    "train_score = cross_val_score(rf_tuned_model, X_train, y_train, cv=kf, scoring=\"r2\")\n",
    "train_score_mean = train_score.mean()\n",
    "train_rmse = np.sqrt(-cross_val_score(rf_tuned_model, X_train, y_train, cv=kf, scoring=\"neg_mean_squared_error\")).mean()\n",
    "train_mse = - cross_val_score(rf_tuned_model, X_train, y_train, cv=kf, scoring=\"neg_mean_squared_error\").mean()\n",
    "print(\"Train score degerleri: \", train_score)\n",
    "print(\"Train  Mean Score:\", train_score_mean)\n",
    "print(\"Train Std : \" + str(train_score.std()))\n",
    "print(\"Train RMSE:\", train_rmse)\n",
    "print(\"Train MSE:\", train_mse)\n",
    "\n",
    "# Doğrulanmış Test başarı metrikleri\n",
    "test_score = cross_val_score(rf_tuned_model, X_test, y_test, cv=kf, scoring=\"r2\")\n",
    "test_score_mean = test_score.mean()\n",
    "test_rmse = np.sqrt(-cross_val_score(rf_tuned_model, X_test, y_test, cv=kf, scoring=\"neg_mean_squared_error\")).mean()\n",
    "test_mse = - cross_val_score(rf_tuned_model, X_test, y_test, cv=kf, scoring=\"neg_mean_squared_error\").mean()\n",
    "print(\"Test score degerleri: \", test_score)\n",
    "print(\"Test Mean Score:\", test_score_mean)\n",
    "print(\"Test Std : \" + str(test_score.std()))\n",
    "print(\"Test RMSE:\", test_rmse)\n",
    "print(\"Test MSE:\", test_mse)"
   ]
  },
  {
   "cell_type": "code",
   "execution_count": 100,
   "id": "f9a26555-572d-4717-89b8-8ac37cd38b0b",
   "metadata": {},
   "outputs": [
    {
     "data": {
      "text/html": [
       "<div>\n",
       "<style scoped>\n",
       "    .dataframe tbody tr th:only-of-type {\n",
       "        vertical-align: middle;\n",
       "    }\n",
       "\n",
       "    .dataframe tbody tr th {\n",
       "        vertical-align: top;\n",
       "    }\n",
       "\n",
       "    .dataframe thead th {\n",
       "        text-align: right;\n",
       "    }\n",
       "</style>\n",
       "<table border=\"1\" class=\"dataframe\">\n",
       "  <thead>\n",
       "    <tr style=\"text-align: right;\">\n",
       "      <th></th>\n",
       "      <th>Success Criterion</th>\n",
       "      <th>Train Score Metrics</th>\n",
       "      <th>Test Score Metrics</th>\n",
       "    </tr>\n",
       "  </thead>\n",
       "  <tbody>\n",
       "    <tr>\n",
       "      <th>0</th>\n",
       "      <td>Score</td>\n",
       "      <td>0.978967</td>\n",
       "      <td>0.934684</td>\n",
       "    </tr>\n",
       "    <tr>\n",
       "      <th>1</th>\n",
       "      <td>RMSE</td>\n",
       "      <td>1.366234</td>\n",
       "      <td>2.317390</td>\n",
       "    </tr>\n",
       "    <tr>\n",
       "      <th>2</th>\n",
       "      <td>MSE</td>\n",
       "      <td>1.865056</td>\n",
       "      <td>5.603688</td>\n",
       "    </tr>\n",
       "  </tbody>\n",
       "</table>\n",
       "</div>"
      ],
      "text/plain": [
       "  Success Criterion  Train Score Metrics  Test Score Metrics\n",
       "0             Score             0.978967            0.934684\n",
       "1              RMSE             1.366234            2.317390\n",
       "2               MSE             1.865056            5.603688"
      ]
     },
     "execution_count": 100,
     "metadata": {},
     "output_type": "execute_result"
    }
   ],
   "source": [
    "success_criterion_dict={\"Success Criterion\": [\"Score\", \"RMSE\", \"MSE\"],\n",
    "                        \"Train Score Metrics\":[train_score_mean, train_rmse,train_mse], \n",
    "                        \"Test Score Metrics\":[test_score_mean, test_rmse, test_mse]}\n",
    "success_criterion_data2 = pd.DataFrame(success_criterion_dict)\n",
    "success_criterion_data2"
   ]
  },
  {
   "cell_type": "markdown",
   "id": "b09b5ead-167e-4ec4-a69f-c7d9abc4011a",
   "metadata": {},
   "source": [
    "<a id=\"12\"></a><br>\n",
    "### Decision Tree Regressor"
   ]
  },
  {
   "cell_type": "code",
   "execution_count": 101,
   "id": "b139db86-1a7a-46fd-9ac5-4fcc7395572a",
   "metadata": {},
   "outputs": [
    {
     "data": {
      "text/plain": [
       "DecisionTreeRegressor()"
      ]
     },
     "execution_count": 101,
     "metadata": {},
     "output_type": "execute_result"
    }
   ],
   "source": [
    "from sklearn.tree import DecisionTreeRegressor\n",
    "dtree_reg_model = DecisionTreeRegressor()\n",
    "dtree_reg_model.fit(X_train, y_train)"
   ]
  },
  {
   "cell_type": "code",
   "execution_count": 102,
   "id": "428d0452-d286-4ee1-8df9-d318d129cdd3",
   "metadata": {},
   "outputs": [
    {
     "name": "stdout",
     "output_type": "stream",
     "text": [
      "Test R2 Score:0.9692157603211495\n",
      "Test MSE:2.872489142857142\n",
      "Test RMSE:1.6948419226751332\n",
      "Train R2 Score:1.0\n",
      "Train MSE:7.708738487501743e-33\n",
      "Traim RMSE:8.779942190869905e-17\n"
     ]
    }
   ],
   "source": [
    "# Tahmin \n",
    "# Test basarı skorları\n",
    "y_pred = dtree_reg_model.predict(X_test)\n",
    "print(\"Test R2 Score:{}\".format(r2_score(y_test, y_pred)))\n",
    "print(\"Test MSE:{}\".format(mean_squared_error(y_test,y_pred)))\n",
    "print(\"Test RMSE:{}\".format(np.sqrt(mean_squared_error(y_test,y_pred))))\n",
    "\n",
    "# Tahmin basarı skorları\n",
    "y_pred_train = dtree_reg_model.predict(X_train)\n",
    "print(\"Train R2 Score:{}\".format(r2_score(y_train, y_pred_train)))\n",
    "print(\"Train MSE:{}\".format(mean_squared_error(y_train,y_pred_train)))\n",
    "print(\"Traim RMSE:{}\".format(np.sqrt(mean_squared_error(y_train,y_pred_train))))"
   ]
  },
  {
   "cell_type": "code",
   "execution_count": 103,
   "id": "21c3c481-6db0-4639-9e76-4485743a8505",
   "metadata": {},
   "outputs": [
    {
     "data": {
      "text/plain": [
       "GridSearchCV(cv=10, estimator=DecisionTreeRegressor(),\n",
       "             param_grid={'criterion': ['mse', 'mae'], 'max_depth': [2, 6, 8],\n",
       "                         'max_leaf_nodes': [5, 20, 100],\n",
       "                         'min_samples_leaf': [20, 40, 100],\n",
       "                         'min_samples_split': [10, 20, 40]})"
      ]
     },
     "execution_count": 103,
     "metadata": {},
     "output_type": "execute_result"
    }
   ],
   "source": [
    "param_grid = {\"criterion\": [\"mse\", \"mae\"],\n",
    "              \"min_samples_split\": [10, 20, 40],\n",
    "              \"max_depth\": [2, 6, 8],\n",
    "              \"min_samples_leaf\": [20, 40, 100],\n",
    "              \"max_leaf_nodes\": [5, 20, 100],\n",
    "              }\n",
    "dtree_cv_model = GridSearchCV(dtree_reg_model, param_grid, cv=10)\n",
    "dtree_cv_model.fit(X_train, y_train)"
   ]
  },
  {
   "cell_type": "code",
   "execution_count": 104,
   "id": "70bef740-b074-477f-ac69-6fad84809523",
   "metadata": {},
   "outputs": [
    {
     "name": "stdout",
     "output_type": "stream",
     "text": [
      "En iyi parametre kombinasyonu: {'criterion': 'mse', 'max_depth': 6, 'max_leaf_nodes': 100, 'min_samples_leaf': 20, 'min_samples_split': 10}\n",
      "En iyi Skor: 0.956096789898498\n"
     ]
    }
   ],
   "source": [
    "print(\"En iyi parametre kombinasyonu:\",dtree_cv_model.best_params_)\n",
    "print(\"En iyi Skor:\", dtree_cv_model.best_score_)"
   ]
  },
  {
   "cell_type": "code",
   "execution_count": 105,
   "id": "e9088535-447a-4d5f-863d-a0f989a2eb82",
   "metadata": {},
   "outputs": [
    {
     "name": "stdout",
     "output_type": "stream",
     "text": [
      "Test R2 Score:0.9692502360046127\n",
      "Test MSE:2.868866415584415\n",
      "Test RMSE:1.693772834704942\n",
      "Train R2 Score:1.0\n",
      "Train MSE:0.0\n",
      "Traim RMSE:0.0\n"
     ]
    }
   ],
   "source": [
    "# en iyi hiperparametre kombinasyonu bulunduktan sonra modelin yeniden oluşturulması\n",
    "dtree_tuned_model = DecisionTreeRegressor()\n",
    "dtree_tuned_model.fit(X_train, y_train)\n",
    "\n",
    "# Tahmin\n",
    "y_pred = dtree_tuned_model.predict(X_test)\n",
    "print(\"Test R2 Score:{}\".format(r2_score(y_test, y_pred)))\n",
    "print(\"Test MSE:{}\".format(mean_squared_error(y_test,y_pred)))\n",
    "print(\"Test RMSE:{}\".format(np.sqrt(mean_squared_error(y_test,y_pred))))\n",
    "\n",
    "# Tahmin basarı skorları\n",
    "y_pred_train = dtree_tuned_model.predict(X_train)\n",
    "print(\"Train R2 Score:{}\".format(r2_score(y_train, y_pred_train)))\n",
    "print(\"Train MSE:{}\".format(mean_squared_error(y_train,y_pred_train)))\n",
    "print(\"Traim RMSE:{}\".format(np.sqrt(mean_squared_error(y_train,y_pred_train))))"
   ]
  },
  {
   "cell_type": "code",
   "execution_count": 106,
   "id": "5fd3238e-b1ad-4f91-9908-e4d0b3f7ce9a",
   "metadata": {},
   "outputs": [
    {
     "name": "stdout",
     "output_type": "stream",
     "text": [
      "Train score degerleri:  [0.9784485  0.96442429 0.96294195 0.96898701 0.94752958 0.97496603\n",
      " 0.96487493 0.96353737 0.97049182 0.97122455]\n",
      "Train  Mean Score: 0.9667426030565898\n",
      "Train Std : 0.008040872434346398\n",
      "Train RMSE: 1.706321896929668\n",
      "Train MSE: 2.9669439516129037\n",
      "Test score degerleri:  [0.95554633 0.9754297  0.93995879 0.96131785 0.95524334 0.9293008\n",
      " 0.96319971 0.89856882 0.92043605 0.93598916]\n",
      "Test Mean Score: 0.9434990559534716\n",
      "Test Std : 0.0219759113286856\n",
      "Test RMSE: 2.1889997675105994\n",
      "Test MSE: 4.9767549875\n"
     ]
    }
   ],
   "source": [
    "# Model doğrulama -> Doğrulanmış başarı metriklerimiz\n",
    "# Doğrulanmış Train başarı metrikleri\n",
    "kf = KFold(n_splits=10)\n",
    "train_score = cross_val_score(dtree_tuned_model, X_train, y_train, cv=kf, scoring=\"r2\")\n",
    "train_score_mean = train_score.mean()\n",
    "train_rmse = np.sqrt(-cross_val_score(dtree_tuned_model, X_train, y_train, cv=kf, scoring=\"neg_mean_squared_error\")).mean()\n",
    "train_mse = - cross_val_score(dtree_tuned_model, X_train, y_train, cv=kf, scoring=\"neg_mean_squared_error\").mean()\n",
    "print(\"Train score degerleri: \", train_score)\n",
    "print(\"Train  Mean Score:\", train_score_mean)\n",
    "print(\"Train Std : \" + str(train_score.std()))\n",
    "print(\"Train RMSE:\", train_rmse)\n",
    "print(\"Train MSE:\", train_mse)\n",
    "\n",
    "# Doğrulanmış Test başarı metrikleri\n",
    "test_score = cross_val_score(dtree_tuned_model, X_test, y_test, cv=kf, scoring=\"r2\")\n",
    "test_score_mean = test_score.mean()\n",
    "test_rmse = np.sqrt(-cross_val_score(dtree_tuned_model, X_test, y_test, cv=kf, scoring=\"neg_mean_squared_error\")).mean()\n",
    "test_mse = - cross_val_score(dtree_tuned_model, X_test, y_test, cv=kf, scoring=\"neg_mean_squared_error\").mean()\n",
    "print(\"Test score degerleri: \", test_score)\n",
    "print(\"Test Mean Score:\", test_score_mean)\n",
    "print(\"Test Std : \" + str(test_score.std()))\n",
    "print(\"Test RMSE:\", test_rmse)\n",
    "print(\"Test MSE:\", test_mse)"
   ]
  },
  {
   "cell_type": "code",
   "execution_count": 107,
   "id": "93965c9e-807c-48ed-8d1e-0a10fd82b728",
   "metadata": {},
   "outputs": [
    {
     "data": {
      "text/html": [
       "<div>\n",
       "<style scoped>\n",
       "    .dataframe tbody tr th:only-of-type {\n",
       "        vertical-align: middle;\n",
       "    }\n",
       "\n",
       "    .dataframe tbody tr th {\n",
       "        vertical-align: top;\n",
       "    }\n",
       "\n",
       "    .dataframe thead th {\n",
       "        text-align: right;\n",
       "    }\n",
       "</style>\n",
       "<table border=\"1\" class=\"dataframe\">\n",
       "  <thead>\n",
       "    <tr style=\"text-align: right;\">\n",
       "      <th></th>\n",
       "      <th>Success Criterion</th>\n",
       "      <th>Train Score Metrics</th>\n",
       "      <th>Test Score Metrics</th>\n",
       "    </tr>\n",
       "  </thead>\n",
       "  <tbody>\n",
       "    <tr>\n",
       "      <th>0</th>\n",
       "      <td>Score</td>\n",
       "      <td>0.966743</td>\n",
       "      <td>0.943499</td>\n",
       "    </tr>\n",
       "    <tr>\n",
       "      <th>1</th>\n",
       "      <td>RMSE</td>\n",
       "      <td>1.706322</td>\n",
       "      <td>2.189000</td>\n",
       "    </tr>\n",
       "    <tr>\n",
       "      <th>2</th>\n",
       "      <td>MSE</td>\n",
       "      <td>2.966944</td>\n",
       "      <td>4.976755</td>\n",
       "    </tr>\n",
       "  </tbody>\n",
       "</table>\n",
       "</div>"
      ],
      "text/plain": [
       "  Success Criterion  Train Score Metrics  Test Score Metrics\n",
       "0             Score             0.966743            0.943499\n",
       "1              RMSE             1.706322            2.189000\n",
       "2               MSE             2.966944            4.976755"
      ]
     },
     "execution_count": 107,
     "metadata": {},
     "output_type": "execute_result"
    }
   ],
   "source": [
    "success_criterion_dict={\"Success Criterion\": [\"Score\", \"RMSE\", \"MSE\"],\n",
    "                        \"Train Score Metrics\":[train_score_mean, train_rmse,train_mse], \n",
    "                        \"Test Score Metrics\":[test_score_mean, test_rmse, test_mse]}\n",
    "success_criterion_data3 = pd.DataFrame(success_criterion_dict)\n",
    "success_criterion_data3"
   ]
  },
  {
   "cell_type": "code",
   "execution_count": 108,
   "id": "12c764a7-8b31-49d7-bf0b-5d8657b4d6a2",
   "metadata": {},
   "outputs": [
    {
     "data": {
      "image/png": "[encoded data removed]",
      "text/plain": [
       "<Figure size 432x288 with 1 Axes>"
      ]
     },
     "metadata": {
      "needs_background": "light"
     },
     "output_type": "display_data"
    }
   ],
   "source": [
    "sns.regplot(x=y_test[\"HeatingLoad\"], y=y_pred[:,0], color=\"red\")\n",
    "plt.xlabel(\"Gercek degerler\")\n",
    "plt.ylabel(\"Tahmin degerleri\")\n",
    "plt.show()"
   ]
  },
  {
   "cell_type": "code",
   "execution_count": 109,
   "id": "59c4cc99-48ca-417b-82fe-c034fcbbd9fc",
   "metadata": {},
   "outputs": [
    {
     "data": {
      "image/png": "[encoded data removed]",
      "text/plain": [
       "<Figure size 432x288 with 1 Axes>"
      ]
     },
     "metadata": {
      "needs_background": "light"
     },
     "output_type": "display_data"
    }
   ],
   "source": [
    "sns.regplot(x=y_test[\"CoolingLoad\"], y=y_pred[:,1], color=\"red\")\n",
    "plt.xlabel(\"Gercek degerler\")\n",
    "plt.ylabel(\"Tahmin degerleri\")\n",
    "plt.show()"
   ]
  },
  {
   "cell_type": "code",
   "execution_count": null,
   "id": "331ed782-0544-4e06-9d50-fec8650b9345",
   "metadata": {},
   "outputs": [],
   "source": []
  },
  {
   "cell_type": "code",
   "execution_count": null,
   "id": "3735cec4-1dab-469c-9ced-e076ed4a3243",
   "metadata": {},
   "outputs": [],
   "source": []
  },
  {
   "cell_type": "code",
   "execution_count": null,
   "id": "dfbb2ed5-f2f8-404b-a79a-aba576a2d157",
   "metadata": {},
   "outputs": [],
   "source": []
  }
 ],
 "metadata": {
  "kernelspec": {
   "display_name": "Python 3 (ipykernel)",
   "language": "python",
   "name": "python3"
  },
  "language_info": {
   "codemirror_mode": {
    "name": "ipython",
    "version": 3
   },
   "file_extension": ".py",
   "mimetype": "text/x-python",
   "name": "python",
   "nbconvert_exporter": "python",
   "pygments_lexer": "ipython3",
   "version": "3.8.12"
  }
 },
 "nbformat": 4,
 "nbformat_minor": 5
}
